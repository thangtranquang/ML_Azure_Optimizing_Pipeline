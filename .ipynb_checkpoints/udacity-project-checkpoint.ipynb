{
 "cells": [
  {
   "cell_type": "code",
   "execution_count": null,
   "metadata": {
    "gather": {
     "logged": 1683261593155
    }
   },
   "outputs": [],
   "source": [
    "from azureml.core import Workspace, Experiment\n",
    "ws = Workspace.from_config()\n",
    "\n",
    "exp = Experiment(workspace=ws, name=\"udacity-project\")\n",
    "\n",
    "\n",
    "# choose a name for experiment\n",
    "#experiment_name = \"automl-classification-bmarketing-all\"\n",
    "\n",
    "#experiment = Experiment(ws, experiment_name)\n",
    "\n",
    "\n",
    "print('Workspace name: ' + ws.name, \n",
    "      'Azure region: ' + ws.location, \n",
    "      'Subscription id: ' + ws.subscription_id, \n",
    "      'Resource group: ' + ws.resource_group, sep = '\\n')\n",
    "\n",
    "run = exp.start_logging()"
   ]
  },
  {
   "cell_type": "markdown",
   "metadata": {
    "gather": {
     "logged": 1683261599253
    },
    "jupyter": {
     "outputs_hidden": false,
     "source_hidden": false
    },
    "nteract": {
     "transient": {
      "deleting": false
     }
    }
   },
   "source": [
    "from azureml.core.compute import ComputeTarget, AmlCompute\n",
    "from azureml.exceptions import ComputeTargetException\n",
    "\n",
    "# From the Azure documentation:\n",
    "# Use vm_size = \"Standard_D2_V2\" in your provisioning configuration.\n",
    "# max_nodes should be no greater than 4.\n",
    "\n",
    "cluster_name = \"project-cluster\"\n",
    "\n",
    "try:\n",
    "    cpu_cluster = ComputeTarget(workspace=ws, name=cluster_name)\n",
    "    print('Found existing cluster, use it.',cpu_cluster)\n",
    "except ComputeTargetException:\n",
    "    compute_config = AmlCompute.provisioning_configuration(vm_size='STANDARD_D2_V2', max_nodes=4)\n",
    "    cpu_cluster = ComputeTarget.create(ws, cluster_name, compute_config)\n",
    "    #print(cpu_cluster)\n",
    "\n",
    "cpu_cluster.wait_for_completion(show_output=True)"
   ]
  },
  {
   "cell_type": "code",
   "execution_count": null,
   "metadata": {
    "gather": {
     "logged": 1606180728482
    },
    "jupyter": {
     "outputs_hidden": false,
     "source_hidden": false
    },
    "nteract": {
     "transient": {
      "deleting": false
     }
    }
   },
   "outputs": [],
   "source": [
    "from azureml.widgets import RunDetails\n",
    "from azureml.train.sklearn import SKLearn\n",
    "from azureml.train.hyperdrive.run import PrimaryMetricGoal\n",
    "from azureml.train.hyperdrive.policy import BanditPolicy\n",
    "from azureml.train.hyperdrive.sampling import RandomParameterSampling\n",
    "from azureml.train.hyperdrive.runconfig import HyperDriveConfig\n",
    "from azureml.train.hyperdrive.parameter_expressions import uniform, quniform\n",
    "import os\n",
    "from azureml.train.hyperdrive import MedianStoppingPolicy\n",
    "\n",
    "# Specify parameter sampler\n",
    "# From the Azure documentation\n",
    "# Uniform takes args (min_value, max_value) of the distribution\n",
    "ps = RandomParameterSampling( {\n",
    "        \"C\": uniform(0, 10),\n",
    "        \"max_iter\": quniform(20, 180, 1)\n",
    "    }\n",
    ")\n",
    "\n",
    "# Specify a Policy\n",
    "# Using the bandit policy with a slack factor of 0.2. (models that perform ~83% as good as best run are evaluated.)\n",
    "#policy = BanditPolicy(slack_factor = 0.2, evaluation_interval=1, delay_evaluation=5)\n",
    "\n",
    "policy = MedianStoppingPolicy(evaluation_interval=1, delay_evaluation=5)\n",
    "\n",
    "if \"training\" not in os.listdir():\n",
    "    os.mkdir(\"./training\")\n",
    "\n",
    "# Create a SKLearn estimator for use with train.py\n",
    "est = SKLearn(\"train.py\", compute_target=cpu_cluster)\n",
    "\n",
    "# Create a HyperDriveConfig using the estimator, hyperparameter sampler, and policy.\n",
    "hyperdrive_config = HyperDriveConfig(estimator=est,\n",
    "                             hyperparameter_sampling=ps,\n",
    "                             policy=policy,\n",
    "                             primary_metric_name=\"Accuracy\",\n",
    "                             primary_metric_goal=PrimaryMetricGoal.MAXIMIZE,\n",
    "                             max_total_runs=100,\n",
    "                             max_concurrent_runs=2)"
   ]
  },
  {
   "cell_type": "code",
   "execution_count": null,
   "metadata": {
    "gather": {
     "logged": 1606180736463
    }
   },
   "outputs": [],
   "source": [
    "# Submit your hyperdrive run to the experiment and show run details with the widget.\n",
    "\n",
    "hyperdrive_run = exp.submit(hyperdrive_config)\n",
    "\n",
    "RunDetails(hyperdrive_run).show()"
   ]
  },
  {
   "cell_type": "code",
   "execution_count": null,
   "metadata": {
    "gather": {
     "logged": 1606188707030
    },
    "jupyter": {
     "outputs_hidden": false,
     "source_hidden": false
    },
    "nteract": {
     "transient": {
      "deleting": false
     }
    }
   },
   "outputs": [],
   "source": [
    "import joblib\n",
    "# Get your best run and save the model from that run.\n",
    "best_run = hyperdrive_run.get_best_run_by_primary_metric()\n",
    "#best_run.get_details()\n",
    "hyperdrive_run.get_children_sorted_by_primary_metric(top=1)\n",
    "\n",
    "\n",
    "#joblib.dump(best_run, 'hd_bestrun_model.joblib')"
   ]
  },
  {
   "cell_type": "code",
   "execution_count": 29,
   "metadata": {
    "gather": {
     "logged": 1606184896870
    }
   },
   "outputs": [],
   "source": [
    "from azureml.data.dataset_factory import TabularDatasetFactory\n",
    "\n",
    "# Data is available at: \n",
    "# \"https://automlsamplenotebookdata.blob.core.windows.net/automl-sample-notebook-data/bankmarketing_train.csv\"\n",
    "\n",
    "ds = TabularDatasetFactory.from_delimited_files(path='https://automlsamplenotebookdata.blob.core.windows.net/automl-sample-notebook-data/bankmarketing_train.csv')\n"
   ]
  },
  {
   "cell_type": "code",
   "execution_count": 30,
   "metadata": {
    "gather": {
     "logged": 1606186527985
    },
    "jupyter": {
     "outputs_hidden": false,
     "source_hidden": false
    },
    "nteract": {
     "transient": {
      "deleting": false
     }
    }
   },
   "outputs": [],
   "source": [
    "from train import clean_data\n",
    "\n",
    "# Use the clean_data function to clean your data.\n",
    "x, y = clean_data(ds)\n",
    "\n",
    "import pandas as pd\n",
    "data = pd.concat([x,y], axis=1)"
   ]
  },
  {
   "cell_type": "code",
   "execution_count": 31,
   "metadata": {
    "gather": {
     "logged": 1606186535450
    },
    "jupyter": {
     "outputs_hidden": false,
     "source_hidden": false
    },
    "nteract": {
     "transient": {
      "deleting": false
     }
    }
   },
   "outputs": [],
   "source": [
    "from azureml.train.automl import AutoMLConfig\n",
    "\n",
    "# Set parameters for AutoMLConfig\n",
    "automl_config = AutoMLConfig(\n",
    "    experiment_timeout_minutes=30,\n",
    "    task=\"classification\",\n",
    "    primary_metric=\"accuracy\",\n",
    "    training_data=data,\n",
    "    label_column_name='y',\n",
    "    n_cross_validations=5,\n",
    "    )"
   ]
  },
  {
   "cell_type": "code",
   "execution_count": 32,
   "metadata": {
    "gather": {
     "logged": 1606188687500
    },
    "jupyter": {
     "outputs_hidden": false,
     "source_hidden": false
    },
    "nteract": {
     "transient": {
      "deleting": false
     }
    }
   },
   "outputs": [
    {
     "name": "stdout",
     "output_type": "stream",
     "text": [
      "No run_configuration provided, running on local with default configuration\n",
      "Running in the active local environment.\n"
     ]
    },
    {
     "data": {
      "text/html": [
       "<table style=\"width:100%\"><tr><th>Experiment</th><th>Id</th><th>Type</th><th>Status</th><th>Details Page</th><th>Docs Page</th></tr><tr><td>udacity-project</td><td>AutoML_1419ecde-9522-439b-829f-d99b471643c2</td><td>automl</td><td>Preparing</td><td><a href=\"https://ml.azure.com/runs/AutoML_1419ecde-9522-439b-829f-d99b471643c2?wsid=/subscriptions/99149dbb-f505-4eb9-901a-c82ba247986c/resourcegroups/hei-aep-vn001-d-we-rg-mlsa-01/workspaces/hei-aep-vn001-d-we-ml-mlsa-01&amp;tid=66e853de-ece3-44dd-9d66-ee6bdf4159d4\" target=\"_blank\" rel=\"noopener\">Link to Azure Machine Learning studio</a></td><td><a href=\"https://docs.microsoft.com/en-us/python/api/overview/azure/ml/intro?view=azure-ml-py\" target=\"_blank\" rel=\"noopener\">Link to Documentation</a></td></tr></table>"
      ],
      "text/plain": [
       "<IPython.core.display.HTML object>"
      ]
     },
     "metadata": {},
     "output_type": "display_data"
    },
    {
     "name": "stdout",
     "output_type": "stream",
     "text": [
      "Current status: DatasetEvaluation. Gathering dataset statistics.\n",
      "Current status: FeaturesGeneration. Generating features for the dataset.\n",
      "Current status: DatasetFeaturization. Beginning to fit featurizers and featurize the dataset.\n",
      "Current status: DatasetFeaturizationCompleted. Completed fit featurizers and featurizing the dataset.\n",
      "Current status: DatasetBalancing. Performing class balancing sweeping\n",
      "Current status: DatasetCrossValidationSplit. Generating individually featurized CV splits.\n",
      "\n",
      "********************************************************************************************\n",
      "DATA GUARDRAILS: \n",
      "\n",
      "TYPE:         Class balancing detection\n",
      "STATUS:       ALERTED\n",
      "DESCRIPTION:  To decrease model bias, please cancel the current run and fix balancing problem.\n",
      "              Learn more about imbalanced data: https://aka.ms/AutomatedMLImbalancedData\n",
      "DETAILS:      Imbalanced data can lead to a falsely perceived positive effect of a model's accuracy because the input data has bias towards one class.\n",
      "+------------------------------+--------------------------------+--------------------------------------+\n",
      "|Size of the smallest class    |Name/Label of the smallest class|Number of samples in the training data|\n",
      "+==============================+================================+======================================+\n",
      "|3692                          |1                               |32950                                 |\n",
      "+------------------------------+--------------------------------+--------------------------------------+\n",
      "\n",
      "********************************************************************************************\n",
      "\n",
      "TYPE:         Missing feature values imputation\n",
      "STATUS:       PASSED\n",
      "DESCRIPTION:  No feature missing values were detected in the training data.\n",
      "              Learn more about missing value imputation: https://aka.ms/AutomatedMLFeaturization\n",
      "\n",
      "********************************************************************************************\n",
      "\n",
      "TYPE:         High cardinality feature detection\n",
      "STATUS:       PASSED\n",
      "DESCRIPTION:  Your inputs were analyzed, and no high cardinality features were detected.\n",
      "              Learn more about high cardinality feature handling: https://aka.ms/AutomatedMLFeaturization\n",
      "\n",
      "********************************************************************************************\n",
      "Current status: ModelSelection. Beginning model selection.\n",
      "\n",
      "********************************************************************************************\n",
      "ITER: The iteration being evaluated.\n",
      "PIPELINE: A summary description of the pipeline being evaluated.\n",
      "DURATION: Time taken for the current iteration.\n",
      "METRIC: The result of computing score on the fitted pipeline.\n",
      "BEST: The best observed score thus far.\n",
      "********************************************************************************************\n",
      "\n",
      " ITER   PIPELINE                                       DURATION            METRIC      BEST\n",
      "    0   MaxAbsScaler LightGBM                          0:00:36             0.9142    0.9142\n",
      "    1   MaxAbsScaler XGBoostClassifier                 0:00:44             0.9125    0.9142\n",
      "    2   MaxAbsScaler ExtremeRandomTrees                0:00:31             0.7292    0.9142\n",
      "    3   SparseNormalizer XGBoostClassifier             0:00:34             0.9141    0.9142\n",
      "    4   MaxAbsScaler LightGBM                          0:00:27             0.9140    0.9142\n",
      "    5   MaxAbsScaler LightGBM                          0:00:27             0.8880    0.9142\n",
      "    6   StandardScalerWrapper XGBoostClassifier        0:00:31             0.9091    0.9142\n",
      "    7   MaxAbsScaler LogisticRegression                0:00:33             0.9085    0.9142\n",
      "    8   StandardScalerWrapper ExtremeRandomTrees       0:00:45             0.8883    0.9142\n",
      "    9   StandardScalerWrapper XGBoostClassifier        0:00:30             0.9140    0.9142\n",
      "   10   SparseNormalizer LightGBM                      0:00:27             0.9044    0.9142\n",
      "   11   StandardScalerWrapper XGBoostClassifier        0:00:29             0.9151    0.9151\n",
      "   12   MaxAbsScaler LogisticRegression                0:00:33             0.9083    0.9151\n",
      "   13   MaxAbsScaler SGD                               0:00:21             0.8552    0.9151\n",
      "   14   StandardScalerWrapper XGBoostClassifier        0:00:31             0.9131    0.9151\n",
      "   15   SparseNormalizer RandomForest                  0:00:52             0.8136    0.9151\n",
      "   16   StandardScalerWrapper LogisticRegression       0:00:28             0.9087    0.9151\n",
      "   17   StandardScalerWrapper RandomForest             0:00:37             0.9013    0.9151\n",
      "   18   StandardScalerWrapper XGBoostClassifier        0:00:40             0.9143    0.9151\n",
      "   19   TruncatedSVDWrapper RandomForest               0:02:56             0.8204    0.9151\n",
      "   20   TruncatedSVDWrapper RandomForest               0:04:41             0.8293    0.9151\n",
      "   21   StandardScalerWrapper XGBoostClassifier        0:00:31             0.9141    0.9151\n",
      "   22   MaxAbsScaler LightGBM                          0:00:27             0.8880    0.9151\n",
      "   23   MaxAbsScaler LightGBM                          0:00:23             0.9042    0.9151\n",
      "   24   StandardScalerWrapper XGBoostClassifier        0:05:01             0.9161    0.9161\n",
      "   25   StandardScalerWrapper XGBoostClassifier        0:00:28             0.8880    0.9161\n",
      "   26   StandardScalerWrapper XGBoostClassifier        0:01:18             0.9099    0.9161\n",
      "   27   MaxAbsScaler LightGBM                          0:00:36             0.9095    0.9161\n",
      "   28   StandardScalerWrapper XGBoostClassifier        0:03:08             0.9101    0.9161\n",
      "   29   VotingEnsemble                                 0:01:49             0.9170    0.9170\n",
      "   30   StackEnsemble                                  0:00:55             0.9154    0.9170\n",
      "Stopping criteria reached at iteration 31. Ending experiment.\n",
      "********************************************************************************************\n",
      "Current status: BestRunExplainModel. Best run model explanations started\n",
      "Current status: ModelExplanationDataSetSetup. Model explanations data setup completed\n",
      "Current status: PickSurrogateModel. Choosing LightGBM as the surrogate model for explanations\n",
      "Current status: EngineeredFeatureExplanations. Computation of engineered features started\n"
     ]
    },
    {
     "name": "stderr",
     "output_type": "stream",
     "text": [
      "2023-05-05:08:59:22,781 INFO     [explanation_client.py:334] Using default datastore for uploads\n"
     ]
    },
    {
     "name": "stdout",
     "output_type": "stream",
     "text": [
      "Current status: EngineeredFeatureExplanations. Computation of engineered features completed\n",
      "Current status: RawFeaturesExplanations. Computation of raw features started\n",
      "Current status: RawFeaturesExplanations. Computation of raw features completed\n",
      "Current status: BestRunExplainModel. Best run model explanations completed\n",
      "********************************************************************************************\n"
     ]
    }
   ],
   "source": [
    "# Submit your automl run\n",
    "automl_run = exp.submit(automl_config, show_output=True)"
   ]
  },
  {
   "cell_type": "code",
   "execution_count": 33,
   "metadata": {
    "gather": {
     "logged": 1606188842124
    }
   },
   "outputs": [
    {
     "data": {
      "text/plain": [
       "{'runId': 'AutoML_1419ecde-9522-439b-829f-d99b471643c2_29',\n",
       " 'target': 'local',\n",
       " 'status': 'Completed',\n",
       " 'startTimeUtc': '2023-05-05T08:42:00.951973Z',\n",
       " 'endTimeUtc': '2023-05-05T08:43:50.640968Z',\n",
       " 'services': {},\n",
       " 'properties': {'runTemplate': 'automl_child',\n",
       "  'pipeline_id': '__AutoML_Ensemble__',\n",
       "  'pipeline_spec': '{\"pipeline_id\":\"__AutoML_Ensemble__\",\"objects\":[{\"module\":\"azureml.train.automl.ensemble\",\"class_name\":\"Ensemble\",\"spec_class\":\"sklearn\",\"param_args\":[],\"param_kwargs\":{\"automl_settings\":\"{\\'task_type\\':\\'classification\\',\\'primary_metric\\':\\'accuracy\\',\\'verbosity\\':20,\\'ensemble_iterations\\':15,\\'is_timeseries\\':False,\\'name\\':\\'udacity-project\\',\\'compute_target\\':\\'local\\',\\'subscription_id\\':\\'99149dbb-f505-4eb9-901a-c82ba247986c\\',\\'region\\':\\'westeurope\\',\\'spark_service\\':None}\",\"ensemble_run_id\":\"AutoML_1419ecde-9522-439b-829f-d99b471643c2_29\",\"experiment_name\":null,\"workspace_name\":\"hei-aep-vn001-d-we-ml-mlsa-01\",\"subscription_id\":\"99149dbb-f505-4eb9-901a-c82ba247986c\",\"resource_group_name\":\"hei-aep-vn001-d-we-rg-mlsa-01\"}}]}',\n",
       "  'training_percent': '100',\n",
       "  'predicted_cost': None,\n",
       "  'iteration': '29',\n",
       "  '_azureml.ComputeTargetType': 'local',\n",
       "  '_aml_system_scenario_identification': 'Local.Child',\n",
       "  'run_preprocessor': '',\n",
       "  'run_algorithm': 'VotingEnsemble',\n",
       "  'ensembled_iterations': '[24, 11, 18, 0, 21, 3, 1, 13]',\n",
       "  'ensembled_algorithms': \"['XGBoostClassifier', 'XGBoostClassifier', 'XGBoostClassifier', 'LightGBM', 'XGBoostClassifier', 'XGBoostClassifier', 'XGBoostClassifier', 'SGD']\",\n",
       "  'ensembled_run_ids': \"['AutoML_1419ecde-9522-439b-829f-d99b471643c2_24', 'AutoML_1419ecde-9522-439b-829f-d99b471643c2_11', 'AutoML_1419ecde-9522-439b-829f-d99b471643c2_18', 'AutoML_1419ecde-9522-439b-829f-d99b471643c2_0', 'AutoML_1419ecde-9522-439b-829f-d99b471643c2_21', 'AutoML_1419ecde-9522-439b-829f-d99b471643c2_3', 'AutoML_1419ecde-9522-439b-829f-d99b471643c2_1', 'AutoML_1419ecde-9522-439b-829f-d99b471643c2_13']\",\n",
       "  'ensemble_weights': '[0.125, 0.125, 0.125, 0.125, 0.125, 0.125, 0.125, 0.125]',\n",
       "  'best_individual_pipeline_score': '0.9160546282245827',\n",
       "  'best_individual_iteration': '24',\n",
       "  'model_output_path': 'outputs/model.pkl',\n",
       "  'conda_env_data_location': 'aml://artifact/ExperimentRun/dcid.AutoML_1419ecde-9522-439b-829f-d99b471643c2_29/outputs/conda_env_v_1_0_0.yml',\n",
       "  'model_data_location': 'aml://artifact/ExperimentRun/dcid.AutoML_1419ecde-9522-439b-829f-d99b471643c2_29/outputs/model.pkl',\n",
       "  'model_size_on_disk': '3177050',\n",
       "  'scoring_data_location': 'aml://artifact/ExperimentRun/dcid.AutoML_1419ecde-9522-439b-829f-d99b471643c2_29/outputs/scoring_file_v_1_0_0.py',\n",
       "  'scoring_data_location_v2': 'aml://artifact/ExperimentRun/dcid.AutoML_1419ecde-9522-439b-829f-d99b471643c2_29/outputs/scoring_file_v_2_0_0.py',\n",
       "  'scoring_data_location_pbi': 'aml://artifact/ExperimentRun/dcid.AutoML_1419ecde-9522-439b-829f-d99b471643c2_29/outputs/scoring_file_pbi_v_1_0_0.py',\n",
       "  'model_exp_support': 'True',\n",
       "  'pipeline_graph_version': '1.0.0',\n",
       "  'model_name': 'AutoML1419ecde929',\n",
       "  'score': '0.9169954476479514',\n",
       "  'score_table': 'NaN',\n",
       "  'run_properties': 'classification_labels=numpy.array([0, 1]',\n",
       "  'pipeline_script': '{\"pipeline_id\":\"__AutoML_Ensemble__\",\"objects\":[{\"module\":\"azureml.train.automl.ensemble\",\"class_name\":\"Ensemble\",\"spec_class\":\"sklearn\",\"param_args\":[],\"param_kwargs\":{\"automl_settings\":\"{\\'task_type\\':\\'classification\\',\\'primary_metric\\':\\'accuracy\\',\\'verbosity\\':20,\\'ensemble_iterations\\':15,\\'is_timeseries\\':False,\\'name\\':\\'udacity-project\\',\\'compute_target\\':\\'local\\',\\'subscription_id\\':\\'99149dbb-f505-4eb9-901a-c82ba247986c\\',\\'region\\':\\'westeurope\\',\\'spark_service\\':None}\",\"ensemble_run_id\":\"AutoML_1419ecde-9522-439b-829f-d99b471643c2_29\",\"experiment_name\":null,\"workspace_name\":\"hei-aep-vn001-d-we-ml-mlsa-01\",\"subscription_id\":\"99149dbb-f505-4eb9-901a-c82ba247986c\",\"resource_group_name\":\"hei-aep-vn001-d-we-rg-mlsa-01\"}}]}',\n",
       "  'training_type': 'MeanCrossValidation',\n",
       "  'fit_time': '29',\n",
       "  'goal': 'accuracy_max',\n",
       "  'primary_metric': 'accuracy',\n",
       "  'errors': '{}',\n",
       "  'onnx_model_resource': '{}',\n",
       "  'dependencies_versions': '{\"azureml-widgets\": \"1.44.0\", \"azureml-training-tabular\": \"1.44.0\", \"azureml-train\": \"1.44.0\", \"azureml-train-restclients-hyperdrive\": \"1.44.0\", \"azureml-train-core\": \"1.44.0\", \"azureml-train-automl\": \"1.44.0\", \"azureml-train-automl-runtime\": \"1.44.0\", \"azureml-train-automl-client\": \"1.44.0\", \"azureml-tensorboard\": \"1.44.0\", \"azureml-telemetry\": \"1.44.0\", \"azureml-sdk\": \"1.44.0\", \"azureml-samples\": \"0+unknown\", \"azureml-responsibleai\": \"1.44.0\", \"azureml-pipeline\": \"1.44.0\", \"azureml-pipeline-steps\": \"1.44.0\", \"azureml-pipeline-core\": \"1.44.0\", \"azureml-opendatasets\": \"1.44.0\", \"azureml-mlflow\": \"1.44.0\", \"azureml-interpret\": \"1.44.0\", \"azureml-inference-server-http\": \"0.7.4\", \"azureml-explain-model\": \"1.44.0\", \"azureml-defaults\": \"1.44.0\", \"azureml-dataset-runtime\": \"1.44.0\", \"azureml-dataprep\": \"4.2.2\", \"azureml-dataprep-rslex\": \"2.8.1\", \"azureml-dataprep-native\": \"38.0.0\", \"azureml-datadrift\": \"1.44.0\", \"azureml-core\": \"1.44.0\", \"azureml-contrib-services\": \"1.44.0\", \"azureml-contrib-server\": \"1.44.0\", \"azureml-contrib-reinforcementlearning\": \"1.44.0\", \"azureml-contrib-pipeline-steps\": \"1.44.0\", \"azureml-contrib-notebook\": \"1.44.0\", \"azureml-contrib-fairness\": \"1.44.0\", \"azureml-contrib-dataset\": \"1.44.0\", \"azureml-contrib-automl-pipeline-steps\": \"1.44.0\", \"azureml-cli-common\": \"1.44.0\", \"azureml-automl-runtime\": \"1.44.0\", \"azureml-automl-dnn-nlp\": \"1.44.0\", \"azureml-automl-core\": \"1.44.0\", \"azureml-accel-models\": \"1.44.0\"}',\n",
       "  'num_cores': '4',\n",
       "  'num_logical_cores': '4',\n",
       "  'peak_memory_usage': '4943164',\n",
       "  'vm_configuration': 'x86_64',\n",
       "  'core_hours': '0.008881638333333339',\n",
       "  'feature_skus': 'automatedml_sdk_guardrails'},\n",
       " 'inputDatasets': [],\n",
       " 'outputDatasets': [],\n",
       " 'logFiles': {},\n",
       " 'submittedBy': 'Tran Quang Thang'}"
      ]
     },
     "execution_count": 33,
     "metadata": {},
     "output_type": "execute_result"
    }
   ],
   "source": [
    "# Retrieve and save your best automl model.\n",
    "a_best_run = automl_run.get_best_child()\n",
    "\n",
    "a_best_run.get_details()"
   ]
  },
  {
   "cell_type": "code",
   "execution_count": 91,
   "metadata": {
    "collapsed": true,
    "gather": {
     "logged": 1606188875485
    },
    "jupyter": {
     "outputs_hidden": true,
     "source_hidden": false
    },
    "nteract": {
     "transient": {
      "deleting": false
     }
    }
   },
   "outputs": [
    {
     "name": "stdout",
     "output_type": "stream",
     "text": [
      "Current provisioning state of AmlCompute is \"Deleting\"\n",
      "\n",
      "Current provisioning state of AmlCompute is \"Deleting\"\n",
      "\n",
      "Current provisioning state of AmlCompute is \"Deleting\"\n",
      "\n",
      "Current provisioning state of AmlCompute is \"Deleting\"\n",
      "\n",
      "Current provisioning state of AmlCompute is \"Deleting\"\n",
      "\n",
      "Current provisioning state of AmlCompute is \"Deleting\"\n",
      "\n",
      "Current provisioning state of AmlCompute is \"Deleting\"\n",
      "\n",
      "Current provisioning state of AmlCompute is \"Deleting\"\n",
      "\n"
     ]
    }
   ],
   "source": [
    "cpu_cluster.delete()"
   ]
  }
 ],
 "metadata": {
  "kernel_info": {
   "name": "python3"
  },
  "kernelspec": {
   "display_name": "Python 3 (ipykernel)",
   "language": "python",
   "name": "python3"
  },
  "language_info": {
   "codemirror_mode": {
    "name": "ipython",
    "version": 3
   },
   "file_extension": ".py",
   "mimetype": "text/x-python",
   "name": "python",
   "nbconvert_exporter": "python",
   "pygments_lexer": "ipython3",
   "version": "3.9.7"
  },
  "microsoft": {
   "host": {
    "AzureML": {
     "notebookHasBeenCompleted": true
    }
   },
   "ms_spell_check": {
    "ms_spell_check_language": "en"
   }
  },
  "nteract": {
   "version": "nteract-front-end@1.0.0"
  }
 },
 "nbformat": 4,
 "nbformat_minor": 4
}
